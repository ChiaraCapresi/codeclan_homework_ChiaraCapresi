{
 "cells": [
  {
   "cell_type": "code",
   "execution_count": 1,
   "id": "bd0494ec",
   "metadata": {},
   "outputs": [],
   "source": [
    "import pandas as pd"
   ]
  },
  {
   "cell_type": "code",
   "execution_count": 2,
   "id": "999fbe49",
   "metadata": {},
   "outputs": [],
   "source": [
    "from janitor import clean_names"
   ]
  },
  {
   "cell_type": "markdown",
   "id": "0c951981",
   "metadata": {},
   "source": [
    "## MVP\n",
    "\n",
    "## Joins\n",
    "\n",
    "\n",
    "**Question 1**\n",
    "\n",
    "Read in all 4 credit card transaction datasets and clean up the column names.\n",
    "\n",
    "-    CardBase.csv\n",
    "-    CustomerBase.csv\n",
    "-    FraudBase.csv\n",
    "-    TransactionBase.csv\n",
    "\n"
   ]
  },
  {
   "cell_type": "code",
   "execution_count": 3,
   "id": "02bb45b8",
   "metadata": {},
   "outputs": [],
   "source": [
    "cards = pd.read_csv(\"data/CardBase.csv\").clean_names()\n",
    "customers = pd.read_csv(\"data/CustomerBase.csv\").clean_names()\n",
    "fraud = pd.read_csv(\"data/FraudBase.csv\").clean_names()\n",
    "transactions = pd.read_csv(\"data/TransactionBase.csv\").clean_names()"
   ]
  },
  {
   "cell_type": "markdown",
   "id": "7cf8b2fa",
   "metadata": {},
   "source": [
    "**Question 2**\n",
    "\n",
    "Join the data containing card details and customer details by customer id, so that all records of card details and any matching records in customer details are kept."
   ]
  },
  {
   "cell_type": "code",
   "execution_count": 6,
   "id": "9851ae16",
   "metadata": {},
   "outputs": [
    {
     "data": {
      "text/plain": [
       "Index(['card_number', 'card_family', 'credit_limit', 'cust_id'], dtype='object')"
      ]
     },
     "execution_count": 6,
     "metadata": {},
     "output_type": "execute_result"
    }
   ],
   "source": [
    "cards.columns"
   ]
  },
  {
   "cell_type": "code",
   "execution_count": 7,
   "id": "fa5b7bf6",
   "metadata": {},
   "outputs": [
    {
     "data": {
      "text/plain": [
       "Index(['cust_id', 'age', 'customer_segment', 'customer_vintage_group'], dtype='object')"
      ]
     },
     "execution_count": 7,
     "metadata": {},
     "output_type": "execute_result"
    }
   ],
   "source": [
    "customers.columns"
   ]
  },
  {
   "cell_type": "code",
   "execution_count": 9,
   "id": "4b784ed2",
   "metadata": {},
   "outputs": [
    {
     "data": {
      "text/html": [
       "<div>\n",
       "<style scoped>\n",
       "    .dataframe tbody tr th:only-of-type {\n",
       "        vertical-align: middle;\n",
       "    }\n",
       "\n",
       "    .dataframe tbody tr th {\n",
       "        vertical-align: top;\n",
       "    }\n",
       "\n",
       "    .dataframe thead th {\n",
       "        text-align: right;\n",
       "    }\n",
       "</style>\n",
       "<table border=\"1\" class=\"dataframe\">\n",
       "  <thead>\n",
       "    <tr style=\"text-align: right;\">\n",
       "      <th></th>\n",
       "      <th>card_number</th>\n",
       "      <th>card_family</th>\n",
       "      <th>credit_limit</th>\n",
       "      <th>cust_id</th>\n",
       "      <th>age</th>\n",
       "      <th>customer_segment</th>\n",
       "      <th>customer_vintage_group</th>\n",
       "    </tr>\n",
       "  </thead>\n",
       "  <tbody>\n",
       "    <tr>\n",
       "      <th>0</th>\n",
       "      <td>8638-5407-3631-8196</td>\n",
       "      <td>Premium</td>\n",
       "      <td>530000</td>\n",
       "      <td>CC67088</td>\n",
       "      <td>27</td>\n",
       "      <td>Diamond</td>\n",
       "      <td>VG1</td>\n",
       "    </tr>\n",
       "    <tr>\n",
       "      <th>1</th>\n",
       "      <td>7106-4239-7093-1515</td>\n",
       "      <td>Gold</td>\n",
       "      <td>18000</td>\n",
       "      <td>CC12076</td>\n",
       "      <td>48</td>\n",
       "      <td>Gold</td>\n",
       "      <td>VG3</td>\n",
       "    </tr>\n",
       "    <tr>\n",
       "      <th>2</th>\n",
       "      <td>6492-5655-8241-3530</td>\n",
       "      <td>Premium</td>\n",
       "      <td>596000</td>\n",
       "      <td>CC97173</td>\n",
       "      <td>22</td>\n",
       "      <td>Diamond</td>\n",
       "      <td>VG1</td>\n",
       "    </tr>\n",
       "    <tr>\n",
       "      <th>3</th>\n",
       "      <td>2868-5606-5152-5706</td>\n",
       "      <td>Gold</td>\n",
       "      <td>27000</td>\n",
       "      <td>CC55858</td>\n",
       "      <td>30</td>\n",
       "      <td>Diamond</td>\n",
       "      <td>VG1</td>\n",
       "    </tr>\n",
       "    <tr>\n",
       "      <th>4</th>\n",
       "      <td>1438-6906-2509-8219</td>\n",
       "      <td>Platinum</td>\n",
       "      <td>142000</td>\n",
       "      <td>CC90518</td>\n",
       "      <td>50</td>\n",
       "      <td>Platinum</td>\n",
       "      <td>VG2</td>\n",
       "    </tr>\n",
       "    <tr>\n",
       "      <th>...</th>\n",
       "      <td>...</td>\n",
       "      <td>...</td>\n",
       "      <td>...</td>\n",
       "      <td>...</td>\n",
       "      <td>...</td>\n",
       "      <td>...</td>\n",
       "      <td>...</td>\n",
       "    </tr>\n",
       "    <tr>\n",
       "      <th>495</th>\n",
       "      <td>4708-4407-9601-6022</td>\n",
       "      <td>Premium</td>\n",
       "      <td>691000</td>\n",
       "      <td>CC64993</td>\n",
       "      <td>34</td>\n",
       "      <td>Diamond</td>\n",
       "      <td>VG1</td>\n",
       "    </tr>\n",
       "    <tr>\n",
       "      <th>496</th>\n",
       "      <td>6042-2856-7280-2925</td>\n",
       "      <td>Gold</td>\n",
       "      <td>33000</td>\n",
       "      <td>CC26787</td>\n",
       "      <td>46</td>\n",
       "      <td>Platinum</td>\n",
       "      <td>VG2</td>\n",
       "    </tr>\n",
       "    <tr>\n",
       "      <th>497</th>\n",
       "      <td>8706-3809-5167-3899</td>\n",
       "      <td>Premium</td>\n",
       "      <td>144000</td>\n",
       "      <td>CC32532</td>\n",
       "      <td>28</td>\n",
       "      <td>Platinum</td>\n",
       "      <td>VG2</td>\n",
       "    </tr>\n",
       "    <tr>\n",
       "      <th>498</th>\n",
       "      <td>9540-8558-5897-5046</td>\n",
       "      <td>Premium</td>\n",
       "      <td>830000</td>\n",
       "      <td>CC90246</td>\n",
       "      <td>35</td>\n",
       "      <td>Gold</td>\n",
       "      <td>VG3</td>\n",
       "    </tr>\n",
       "    <tr>\n",
       "      <th>499</th>\n",
       "      <td>5587-7265-8118-7718</td>\n",
       "      <td>Gold</td>\n",
       "      <td>24000</td>\n",
       "      <td>CC37803</td>\n",
       "      <td>21</td>\n",
       "      <td>Diamond</td>\n",
       "      <td>VG1</td>\n",
       "    </tr>\n",
       "  </tbody>\n",
       "</table>\n",
       "<p>500 rows × 7 columns</p>\n",
       "</div>"
      ],
      "text/plain": [
       "             card_number card_family  credit_limit  cust_id  age  \\\n",
       "0    8638-5407-3631-8196     Premium        530000  CC67088   27   \n",
       "1    7106-4239-7093-1515        Gold         18000  CC12076   48   \n",
       "2    6492-5655-8241-3530     Premium        596000  CC97173   22   \n",
       "3    2868-5606-5152-5706        Gold         27000  CC55858   30   \n",
       "4    1438-6906-2509-8219    Platinum        142000  CC90518   50   \n",
       "..                   ...         ...           ...      ...  ...   \n",
       "495  4708-4407-9601-6022     Premium        691000  CC64993   34   \n",
       "496  6042-2856-7280-2925        Gold         33000  CC26787   46   \n",
       "497  8706-3809-5167-3899     Premium        144000  CC32532   28   \n",
       "498  9540-8558-5897-5046     Premium        830000  CC90246   35   \n",
       "499  5587-7265-8118-7718        Gold         24000  CC37803   21   \n",
       "\n",
       "    customer_segment customer_vintage_group  \n",
       "0            Diamond                    VG1  \n",
       "1               Gold                    VG3  \n",
       "2            Diamond                    VG1  \n",
       "3            Diamond                    VG1  \n",
       "4           Platinum                    VG2  \n",
       "..               ...                    ...  \n",
       "495          Diamond                    VG1  \n",
       "496         Platinum                    VG2  \n",
       "497         Platinum                    VG2  \n",
       "498             Gold                    VG3  \n",
       "499          Diamond                    VG1  \n",
       "\n",
       "[500 rows x 7 columns]"
      ]
     },
     "execution_count": 9,
     "metadata": {},
     "output_type": "execute_result"
    }
   ],
   "source": [
    "cards.merge(customers, how = \"left\", on = \"cust_id\")"
   ]
  },
  {
   "cell_type": "markdown",
   "id": "f170c803",
   "metadata": {},
   "source": [
    "\n",
    "**Question 3**\n",
    "\n",
    "Join the data containing fraud details with transaction details so all rows of both tables are kept. What does the resulting row number tell you?\n"
   ]
  },
  {
   "cell_type": "code",
   "execution_count": 11,
   "id": "d094675a",
   "metadata": {},
   "outputs": [
    {
     "data": {
      "text/plain": [
       "Index(['transaction_id', 'fraud_flag'], dtype='object')"
      ]
     },
     "execution_count": 11,
     "metadata": {},
     "output_type": "execute_result"
    }
   ],
   "source": [
    "fraud.columns"
   ]
  },
  {
   "cell_type": "code",
   "execution_count": 12,
   "id": "efe83b24",
   "metadata": {},
   "outputs": [
    {
     "data": {
      "text/plain": [
       "Index(['transaction_id', 'transaction_date', 'credit_card_id',\n",
       "       'transaction_value', 'transaction_segment'],\n",
       "      dtype='object')"
      ]
     },
     "execution_count": 12,
     "metadata": {},
     "output_type": "execute_result"
    }
   ],
   "source": [
    "transactions.columns"
   ]
  },
  {
   "cell_type": "code",
   "execution_count": 14,
   "id": "662a8b07",
   "metadata": {},
   "outputs": [
    {
     "data": {
      "text/html": [
       "<div>\n",
       "<style scoped>\n",
       "    .dataframe tbody tr th:only-of-type {\n",
       "        vertical-align: middle;\n",
       "    }\n",
       "\n",
       "    .dataframe tbody tr th {\n",
       "        vertical-align: top;\n",
       "    }\n",
       "\n",
       "    .dataframe thead th {\n",
       "        text-align: right;\n",
       "    }\n",
       "</style>\n",
       "<table border=\"1\" class=\"dataframe\">\n",
       "  <thead>\n",
       "    <tr style=\"text-align: right;\">\n",
       "      <th></th>\n",
       "      <th>transaction_id</th>\n",
       "      <th>fraud_flag</th>\n",
       "      <th>transaction_date</th>\n",
       "      <th>credit_card_id</th>\n",
       "      <th>transaction_value</th>\n",
       "      <th>transaction_segment</th>\n",
       "    </tr>\n",
       "  </thead>\n",
       "  <tbody>\n",
       "    <tr>\n",
       "      <th>0</th>\n",
       "      <td>CTID50558449</td>\n",
       "      <td>1.0</td>\n",
       "      <td>6-May-16</td>\n",
       "      <td>4246-1369-3659-8804</td>\n",
       "      <td>6984</td>\n",
       "      <td>SEG23</td>\n",
       "    </tr>\n",
       "    <tr>\n",
       "      <th>1</th>\n",
       "      <td>CTID55936882</td>\n",
       "      <td>1.0</td>\n",
       "      <td>29-Nov-16</td>\n",
       "      <td>1336-9200-1264-2551</td>\n",
       "      <td>34367</td>\n",
       "      <td>SEG21</td>\n",
       "    </tr>\n",
       "    <tr>\n",
       "      <th>2</th>\n",
       "      <td>CTID63762180</td>\n",
       "      <td>1.0</td>\n",
       "      <td>5-Dec-16</td>\n",
       "      <td>8528-6154-7390-5081</td>\n",
       "      <td>44550</td>\n",
       "      <td>SEG15</td>\n",
       "    </tr>\n",
       "    <tr>\n",
       "      <th>3</th>\n",
       "      <td>CTID76723439</td>\n",
       "      <td>1.0</td>\n",
       "      <td>15-Sep-16</td>\n",
       "      <td>7908-2695-7391-7499</td>\n",
       "      <td>48275</td>\n",
       "      <td>SEG16</td>\n",
       "    </tr>\n",
       "    <tr>\n",
       "      <th>4</th>\n",
       "      <td>CTID21246201</td>\n",
       "      <td>1.0</td>\n",
       "      <td>29-Feb-16</td>\n",
       "      <td>2524-4184-5908-6750</td>\n",
       "      <td>35751</td>\n",
       "      <td>SEG25</td>\n",
       "    </tr>\n",
       "    <tr>\n",
       "      <th>...</th>\n",
       "      <td>...</td>\n",
       "      <td>...</td>\n",
       "      <td>...</td>\n",
       "      <td>...</td>\n",
       "      <td>...</td>\n",
       "      <td>...</td>\n",
       "    </tr>\n",
       "    <tr>\n",
       "      <th>9995</th>\n",
       "      <td>CTID25037573</td>\n",
       "      <td>NaN</td>\n",
       "      <td>10-Jun-16</td>\n",
       "      <td>9157-2802-8374-1145</td>\n",
       "      <td>44280</td>\n",
       "      <td>SEG18</td>\n",
       "    </tr>\n",
       "    <tr>\n",
       "      <th>9996</th>\n",
       "      <td>CTID43832298</td>\n",
       "      <td>NaN</td>\n",
       "      <td>23-May-16</td>\n",
       "      <td>7416-4529-6690-5703</td>\n",
       "      <td>27163</td>\n",
       "      <td>SEG12</td>\n",
       "    </tr>\n",
       "    <tr>\n",
       "      <th>9997</th>\n",
       "      <td>CTID56532072</td>\n",
       "      <td>NaN</td>\n",
       "      <td>6-Aug-16</td>\n",
       "      <td>6699-2639-4522-6219</td>\n",
       "      <td>36424</td>\n",
       "      <td>SEG13</td>\n",
       "    </tr>\n",
       "    <tr>\n",
       "      <th>9998</th>\n",
       "      <td>CTID88101446</td>\n",
       "      <td>NaN</td>\n",
       "      <td>10-Oct-16</td>\n",
       "      <td>8341-5263-4582-7396</td>\n",
       "      <td>8464</td>\n",
       "      <td>SEG14</td>\n",
       "    </tr>\n",
       "    <tr>\n",
       "      <th>9999</th>\n",
       "      <td>CTID64730271</td>\n",
       "      <td>NaN</td>\n",
       "      <td>18-Jun-16</td>\n",
       "      <td>1947-8602-1695-7503</td>\n",
       "      <td>7606</td>\n",
       "      <td>SEG15</td>\n",
       "    </tr>\n",
       "  </tbody>\n",
       "</table>\n",
       "<p>10000 rows × 6 columns</p>\n",
       "</div>"
      ],
      "text/plain": [
       "     transaction_id  fraud_flag transaction_date       credit_card_id  \\\n",
       "0      CTID50558449         1.0         6-May-16  4246-1369-3659-8804   \n",
       "1      CTID55936882         1.0        29-Nov-16  1336-9200-1264-2551   \n",
       "2      CTID63762180         1.0         5-Dec-16  8528-6154-7390-5081   \n",
       "3      CTID76723439         1.0        15-Sep-16  7908-2695-7391-7499   \n",
       "4      CTID21246201         1.0        29-Feb-16  2524-4184-5908-6750   \n",
       "...             ...         ...              ...                  ...   \n",
       "9995   CTID25037573         NaN        10-Jun-16  9157-2802-8374-1145   \n",
       "9996   CTID43832298         NaN        23-May-16  7416-4529-6690-5703   \n",
       "9997   CTID56532072         NaN         6-Aug-16  6699-2639-4522-6219   \n",
       "9998   CTID88101446         NaN        10-Oct-16  8341-5263-4582-7396   \n",
       "9999   CTID64730271         NaN        18-Jun-16  1947-8602-1695-7503   \n",
       "\n",
       "      transaction_value transaction_segment  \n",
       "0                  6984               SEG23  \n",
       "1                 34367               SEG21  \n",
       "2                 44550               SEG15  \n",
       "3                 48275               SEG16  \n",
       "4                 35751               SEG25  \n",
       "...                 ...                 ...  \n",
       "9995              44280               SEG18  \n",
       "9996              27163               SEG12  \n",
       "9997              36424               SEG13  \n",
       "9998               8464               SEG14  \n",
       "9999               7606               SEG15  \n",
       "\n",
       "[10000 rows x 6 columns]"
      ]
     },
     "execution_count": 14,
     "metadata": {},
     "output_type": "execute_result"
    }
   ],
   "source": [
    "fraud.merge(transactions, how = \"outer\", on = \"transaction_id\")"
   ]
  },
  {
   "cell_type": "code",
   "execution_count": 15,
   "id": "5392e90e",
   "metadata": {},
   "outputs": [
    {
     "data": {
      "text/plain": [
       "(10000, 5)"
      ]
     },
     "execution_count": 15,
     "metadata": {},
     "output_type": "execute_result"
    }
   ],
   "source": [
    "transactions.shape"
   ]
  },
  {
   "cell_type": "code",
   "execution_count": 16,
   "id": "4ed121ff",
   "metadata": {},
   "outputs": [
    {
     "data": {
      "text/plain": [
       "(109, 2)"
      ]
     },
     "execution_count": 16,
     "metadata": {},
     "output_type": "execute_result"
    }
   ],
   "source": [
    "fraud.shape"
   ]
  },
  {
   "cell_type": "markdown",
   "id": "45c36420",
   "metadata": {},
   "source": [
    "This tell us that there is a relationship one-to-many between `fraud` and `transactions`"
   ]
  },
  {
   "cell_type": "markdown",
   "id": "582bed97",
   "metadata": {},
   "source": [
    "\n",
    "**Question 4**\n",
    "\n",
    "[Harder] Perform a filtering join between cards and transactions so that only the card details for cards that have made at least one transaction are preserved.\n",
    "\n",
    "Hint: semi is not an allowed option for how in .merge(). You'll need to think about the process of a semi join and then perform each step.\n"
   ]
  },
  {
   "cell_type": "code",
   "execution_count": null,
   "id": "181ae4ca",
   "metadata": {},
   "outputs": [],
   "source": []
  },
  {
   "cell_type": "code",
   "execution_count": null,
   "id": "a97da9f3",
   "metadata": {},
   "outputs": [],
   "source": []
  },
  {
   "cell_type": "code",
   "execution_count": null,
   "id": "1e17e493",
   "metadata": {},
   "outputs": [],
   "source": []
  },
  {
   "cell_type": "code",
   "execution_count": null,
   "id": "5cce9e82",
   "metadata": {},
   "outputs": [],
   "source": []
  },
  {
   "cell_type": "code",
   "execution_count": null,
   "id": "2a951918",
   "metadata": {},
   "outputs": [],
   "source": []
  }
 ],
 "metadata": {
  "kernelspec": {
   "display_name": "Python 3 (ipykernel)",
   "language": "python",
   "name": "python3"
  },
  "language_info": {
   "codemirror_mode": {
    "name": "ipython",
    "version": 3
   },
   "file_extension": ".py",
   "mimetype": "text/x-python",
   "name": "python",
   "nbconvert_exporter": "python",
   "pygments_lexer": "ipython3",
   "version": "3.10.9"
  },
  "varInspector": {
   "cols": {
    "lenName": 16,
    "lenType": 16,
    "lenVar": 40
   },
   "kernels_config": {
    "python": {
     "delete_cmd_postfix": "",
     "delete_cmd_prefix": "del ",
     "library": "var_list.py",
     "varRefreshCmd": "print(var_dic_list())"
    },
    "r": {
     "delete_cmd_postfix": ") ",
     "delete_cmd_prefix": "rm(",
     "library": "var_list.r",
     "varRefreshCmd": "cat(var_dic_list()) "
    }
   },
   "types_to_exclude": [
    "module",
    "function",
    "builtin_function_or_method",
    "instance",
    "_Feature"
   ],
   "window_display": false
  }
 },
 "nbformat": 4,
 "nbformat_minor": 5
}
